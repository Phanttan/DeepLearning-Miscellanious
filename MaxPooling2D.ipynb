{
  "nbformat": 4,
  "nbformat_minor": 0,
  "metadata": {
    "colab": {
      "name": "MaxPooling2D.ipynb",
      "provenance": [],
      "toc_visible": true,
      "authorship_tag": "ABX9TyNUzeARV4banGsUJKTSqfb+",
      "include_colab_link": true
    },
    "kernelspec": {
      "name": "python3",
      "display_name": "Python 3"
    }
  },
  "cells": [
    {
      "cell_type": "markdown",
      "metadata": {
        "id": "view-in-github",
        "colab_type": "text"
      },
      "source": [
        "<a href=\"https://colab.research.google.com/github/Phanttan/DeepLearning-Miscellanious/blob/main/MaxPooling2D.ipynb\" target=\"_parent\"><img src=\"https://colab.research.google.com/assets/colab-badge.svg\" alt=\"Open In Colab\"/></a>"
      ]
    },
    {
      "cell_type": "code",
      "metadata": {
        "id": "SoVMi0fxy6Q5"
      },
      "source": [
        "import tensorflow as tf"
      ],
      "execution_count": 23,
      "outputs": []
    },
    {
      "cell_type": "markdown",
      "metadata": {
        "id": "_m4kYSbU0DGr"
      },
      "source": [
        "# Create samplings"
      ]
    },
    {
      "cell_type": "markdown",
      "metadata": {
        "id": "FZ0-NalI0VZ2"
      },
      "source": [
        "## (3x3)"
      ]
    },
    {
      "cell_type": "code",
      "metadata": {
        "id": "AoSGPj3vzhnF",
        "outputId": "cd3ffa3a-0efc-4445-9b1f-36b5b7871245",
        "colab": {
          "base_uri": "https://localhost:8080/"
        }
      },
      "source": [
        "x = tf.constant([[1,2,3],\n",
        "                 [4,5,2],\n",
        "                 [7,8,9]])\n",
        "x = tf.reshape(x,[1,3,3,1])\n",
        "x"
      ],
      "execution_count": 24,
      "outputs": [
        {
          "output_type": "execute_result",
          "data": {
            "text/plain": [
              "<tf.Tensor: shape=(1, 3, 3, 1), dtype=int32, numpy=\n",
              "array([[[[1],\n",
              "         [2],\n",
              "         [3]],\n",
              "\n",
              "        [[4],\n",
              "         [5],\n",
              "         [2]],\n",
              "\n",
              "        [[7],\n",
              "         [8],\n",
              "         [9]]]], dtype=int32)>"
            ]
          },
          "metadata": {
            "tags": []
          },
          "execution_count": 24
        }
      ]
    },
    {
      "cell_type": "markdown",
      "metadata": {
        "id": "fkmIfkeZ0fKh"
      },
      "source": [
        "## (4x4)"
      ]
    },
    {
      "cell_type": "code",
      "metadata": {
        "id": "K6XUX0vU0h8q",
        "outputId": "10d20aa5-b7b1-464e-c78b-2412f46b7cbd",
        "colab": {
          "base_uri": "https://localhost:8080/"
        }
      },
      "source": [
        "y = tf.constant([[1,2,3,4],\n",
        "                 [5,6,7,8],\n",
        "                 [9,10,11,12],\n",
        "                 [13,14,15,16]])\n",
        "y = tf.reshape(y,[1,4,4,1])\n",
        "y"
      ],
      "execution_count": 25,
      "outputs": [
        {
          "output_type": "execute_result",
          "data": {
            "text/plain": [
              "<tf.Tensor: shape=(1, 4, 4, 1), dtype=int32, numpy=\n",
              "array([[[[ 1],\n",
              "         [ 2],\n",
              "         [ 3],\n",
              "         [ 4]],\n",
              "\n",
              "        [[ 5],\n",
              "         [ 6],\n",
              "         [ 7],\n",
              "         [ 8]],\n",
              "\n",
              "        [[ 9],\n",
              "         [10],\n",
              "         [11],\n",
              "         [12]],\n",
              "\n",
              "        [[13],\n",
              "         [14],\n",
              "         [15],\n",
              "         [16]]]], dtype=int32)>"
            ]
          },
          "metadata": {
            "tags": []
          },
          "execution_count": 25
        }
      ]
    },
    {
      "cell_type": "markdown",
      "metadata": {
        "id": "4jquc5Qs0EZ-"
      },
      "source": [
        "# Define Layers with changing Strides, padding='valid'\n",
        "output_shape = (input_shape - pool_size + 1) / strides)"
      ]
    },
    {
      "cell_type": "code",
      "metadata": {
        "id": "M4vSc7kJzmDp"
      },
      "source": [
        "layer1 = tf.keras.layers.MaxPool2D(pool_size=(2,2), strides=(1,1), padding='valid')\n",
        "layer2 = tf.keras.layers.MaxPool2D(pool_size=(2,2), strides=(2,2), padding='valid')\n",
        "layer3 = tf.keras.layers.MaxPool2D(pool_size=(2,2), strides=(1,2), padding='valid')\n",
        "layer4 = tf.keras.layers.MaxPool2D(pool_size=(2,2), strides=(2,1), padding='valid')"
      ],
      "execution_count": 26,
      "outputs": []
    },
    {
      "cell_type": "markdown",
      "metadata": {
        "id": "glJLNGFr3Uh-"
      },
      "source": [
        "## Result in (3x3) "
      ]
    },
    {
      "cell_type": "code",
      "metadata": {
        "id": "hhJCPlTmzjpe",
        "outputId": "a9479787-c1f4-4e44-a5da-121e532dbcb6",
        "colab": {
          "base_uri": "https://localhost:8080/"
        }
      },
      "source": [
        "layer1(x)"
      ],
      "execution_count": 27,
      "outputs": [
        {
          "output_type": "execute_result",
          "data": {
            "text/plain": [
              "<tf.Tensor: shape=(1, 2, 2, 1), dtype=int32, numpy=\n",
              "array([[[[5],\n",
              "         [5]],\n",
              "\n",
              "        [[8],\n",
              "         [9]]]], dtype=int32)>"
            ]
          },
          "metadata": {
            "tags": []
          },
          "execution_count": 27
        }
      ]
    },
    {
      "cell_type": "code",
      "metadata": {
        "id": "Si8TILAhzoVJ"
      },
      "source": [
        "layer2(x)"
      ],
      "execution_count": null,
      "outputs": []
    },
    {
      "cell_type": "markdown",
      "metadata": {
        "id": "4aW427Lt3ZQG"
      },
      "source": [
        "## Result in (4x4)"
      ]
    },
    {
      "cell_type": "code",
      "metadata": {
        "id": "aoCRHBha02f4",
        "outputId": "87c3ad2a-947a-418a-ee7c-e7fd127a86a0",
        "colab": {
          "base_uri": "https://localhost:8080/"
        }
      },
      "source": [
        "layer1(y)"
      ],
      "execution_count": 28,
      "outputs": [
        {
          "output_type": "execute_result",
          "data": {
            "text/plain": [
              "<tf.Tensor: shape=(1, 3, 3, 1), dtype=int32, numpy=\n",
              "array([[[[ 6],\n",
              "         [ 7],\n",
              "         [ 8]],\n",
              "\n",
              "        [[10],\n",
              "         [11],\n",
              "         [12]],\n",
              "\n",
              "        [[14],\n",
              "         [15],\n",
              "         [16]]]], dtype=int32)>"
            ]
          },
          "metadata": {
            "tags": []
          },
          "execution_count": 28
        }
      ]
    },
    {
      "cell_type": "code",
      "metadata": {
        "id": "vQjez08z1QwT",
        "outputId": "1153c88a-62e4-4f21-914c-6b7923671923",
        "colab": {
          "base_uri": "https://localhost:8080/"
        }
      },
      "source": [
        "layer2(y)"
      ],
      "execution_count": 29,
      "outputs": [
        {
          "output_type": "execute_result",
          "data": {
            "text/plain": [
              "<tf.Tensor: shape=(1, 2, 2, 1), dtype=int32, numpy=\n",
              "array([[[[ 6],\n",
              "         [ 8]],\n",
              "\n",
              "        [[14],\n",
              "         [16]]]], dtype=int32)>"
            ]
          },
          "metadata": {
            "tags": []
          },
          "execution_count": 29
        }
      ]
    },
    {
      "cell_type": "code",
      "metadata": {
        "id": "di__dwrx1pxk",
        "outputId": "ee7ae8e9-4b98-426b-93a1-a6cbbd9f490c",
        "colab": {
          "base_uri": "https://localhost:8080/"
        }
      },
      "source": [
        "layer3(y)"
      ],
      "execution_count": 30,
      "outputs": [
        {
          "output_type": "execute_result",
          "data": {
            "text/plain": [
              "<tf.Tensor: shape=(1, 3, 2, 1), dtype=int32, numpy=\n",
              "array([[[[ 6],\n",
              "         [ 8]],\n",
              "\n",
              "        [[10],\n",
              "         [12]],\n",
              "\n",
              "        [[14],\n",
              "         [16]]]], dtype=int32)>"
            ]
          },
          "metadata": {
            "tags": []
          },
          "execution_count": 30
        }
      ]
    },
    {
      "cell_type": "code",
      "metadata": {
        "id": "77o_8i1B2SWn",
        "outputId": "0c0a8b2a-e033-4e20-8183-4808a7602392",
        "colab": {
          "base_uri": "https://localhost:8080/"
        }
      },
      "source": [
        "layer4(y)"
      ],
      "execution_count": 31,
      "outputs": [
        {
          "output_type": "execute_result",
          "data": {
            "text/plain": [
              "<tf.Tensor: shape=(1, 2, 3, 1), dtype=int32, numpy=\n",
              "array([[[[ 6],\n",
              "         [ 7],\n",
              "         [ 8]],\n",
              "\n",
              "        [[14],\n",
              "         [15],\n",
              "         [16]]]], dtype=int32)>"
            ]
          },
          "metadata": {
            "tags": []
          },
          "execution_count": 31
        }
      ]
    },
    {
      "cell_type": "markdown",
      "metadata": {
        "id": "1i4oCvEz2bkz"
      },
      "source": [
        "# Define Layers with changing Strides, padding='same'\n",
        "output_shape = input_shape / strides\n",
        "\n"
      ]
    },
    {
      "cell_type": "code",
      "metadata": {
        "id": "MYk5syHE34nT"
      },
      "source": [
        "layer5 = tf.keras.layers.MaxPool2D(pool_size=(2,2), strides=(1,1), padding='same')\n",
        "layer6 = tf.keras.layers.MaxPool2D(pool_size=(2,2), strides=(2,2), padding='same')\n",
        "layer7 = tf.keras.layers.MaxPool2D(pool_size=(2,2), strides=(2,1), padding='same')\n",
        "layer8 = tf.keras.layers.MaxPool2D(pool_size=(2,2), strides=(1,2), padding='same')"
      ],
      "execution_count": 32,
      "outputs": []
    },
    {
      "cell_type": "markdown",
      "metadata": {
        "id": "WzEC0MOK3s4m"
      },
      "source": [
        "## Result in (3x3)"
      ]
    },
    {
      "cell_type": "code",
      "metadata": {
        "id": "FY6xpIqa2kIR",
        "outputId": "6cda8987-faab-434c-8731-1d5d5d8d7d54",
        "colab": {
          "base_uri": "https://localhost:8080/"
        }
      },
      "source": [
        "layer5(x)"
      ],
      "execution_count": 33,
      "outputs": [
        {
          "output_type": "execute_result",
          "data": {
            "text/plain": [
              "<tf.Tensor: shape=(1, 3, 3, 1), dtype=int32, numpy=\n",
              "array([[[[5],\n",
              "         [5],\n",
              "         [3]],\n",
              "\n",
              "        [[8],\n",
              "         [9],\n",
              "         [9]],\n",
              "\n",
              "        [[8],\n",
              "         [9],\n",
              "         [9]]]], dtype=int32)>"
            ]
          },
          "metadata": {
            "tags": []
          },
          "execution_count": 33
        }
      ]
    },
    {
      "cell_type": "code",
      "metadata": {
        "id": "9LylJnmt70jv",
        "outputId": "51973e81-a1ee-4950-a883-e2162e701125",
        "colab": {
          "base_uri": "https://localhost:8080/"
        }
      },
      "source": [
        "layer6(x)"
      ],
      "execution_count": 34,
      "outputs": [
        {
          "output_type": "execute_result",
          "data": {
            "text/plain": [
              "<tf.Tensor: shape=(1, 2, 2, 1), dtype=int32, numpy=\n",
              "array([[[[5],\n",
              "         [3]],\n",
              "\n",
              "        [[8],\n",
              "         [9]]]], dtype=int32)>"
            ]
          },
          "metadata": {
            "tags": []
          },
          "execution_count": 34
        }
      ]
    }
  ]
}